{
 "metadata": {
  "name": ""
 },
 "nbformat": 3,
 "nbformat_minor": 0,
 "worksheets": [
  {
   "cells": [
    {
     "cell_type": "code",
     "collapsed": false,
     "input": [
      "%pylab inline"
     ],
     "language": "python",
     "metadata": {},
     "outputs": [
      {
       "output_type": "stream",
       "stream": "stdout",
       "text": [
        "Populating the interactive namespace from numpy and matplotlib\n"
       ]
      },
      {
       "output_type": "stream",
       "stream": "stderr",
       "text": [
        "WARNING: pylab import has clobbered these variables: ['division', 'random', 'datetime', 'e']\n",
        "`%pylab --no-import-all` prevents importing * from pylab and numpy\n"
       ]
      }
     ],
     "prompt_number": 151
    },
    {
     "cell_type": "code",
     "collapsed": false,
     "input": [
      "import scipy\n",
      "import numpy\n",
      "import pandas"
     ],
     "language": "python",
     "metadata": {},
     "outputs": [],
     "prompt_number": 152
    },
    {
     "cell_type": "code",
     "collapsed": false,
     "input": [
      "import matplotlib.pyplot as pyplt"
     ],
     "language": "python",
     "metadata": {},
     "outputs": [],
     "prompt_number": 153
    },
    {
     "cell_type": "code",
     "collapsed": false,
     "input": [
      "import seaborn as sns"
     ],
     "language": "python",
     "metadata": {},
     "outputs": [],
     "prompt_number": 154
    },
    {
     "cell_type": "raw",
     "metadata": {},
     "source": [
      "Navigate to data points"
     ]
    },
    {
     "cell_type": "code",
     "collapsed": false,
     "input": [
      "cd /Users/dondini/Udacity/lesson_2/ud919/lesson2/twitter/"
     ],
     "language": "python",
     "metadata": {},
     "outputs": [
      {
       "output_type": "stream",
       "stream": "stdout",
       "text": [
        "/Users/dondini/Udacity/lesson_2/ud919/lesson2/twitter\n"
       ]
      }
     ],
     "prompt_number": 155
    },
    {
     "cell_type": "heading",
     "level": 4,
     "metadata": {},
     "source": [
      "Form data points"
     ]
    },
    {
     "cell_type": "code",
     "collapsed": false,
     "input": [
      "tweetsDF = pandas.io.json.read_json(\"new_gruber_tweets.json\")"
     ],
     "language": "python",
     "metadata": {},
     "outputs": [],
     "prompt_number": 156
    },
    {
     "cell_type": "code",
     "collapsed": false,
     "input": [
      "createdDF = tweetsDF.ix[0:, [\"created_at\"]]\n",
      "createdTextDF = tweetsDF.ix[0:, [\"created_at\", \"text\"]]\n",
      "createdTextVals = createdTextDF.values"
     ],
     "language": "python",
     "metadata": {},
     "outputs": [],
     "prompt_number": 157
    },
    {
     "cell_type": "code",
     "collapsed": false,
     "input": [
      "tweetTimes = []\n",
      "for i,row in createdDF.iterrows():\n",
      "    tweetTimes.append(row[\"created_at\"])\n",
      "tweetTimes.sort()"
     ],
     "language": "python",
     "metadata": {},
     "outputs": [],
     "prompt_number": 158
    },
    {
     "cell_type": "code",
     "collapsed": false,
     "input": [
      "timeUntilNext = []\n",
      "for i in xrange(1, len(tweetTimes)-1):\n",
      "    timeDiff = (tweetTimes[i]-tweetTimes[i-1]).seconds\n",
      "    timeUntilNext.append(timeDiff)"
     ],
     "language": "python",
     "metadata": {},
     "outputs": [],
     "prompt_number": 159
    },
    {
     "cell_type": "heading",
     "level": 4,
     "metadata": {},
     "source": [
      "Create initial histogram"
     ]
    },
    {
     "cell_type": "code",
     "collapsed": false,
     "input": [
      "timeToNextSeries = pandas.Series(timeUntilNext)"
     ],
     "language": "python",
     "metadata": {},
     "outputs": [],
     "prompt_number": 160
    },
    {
     "cell_type": "code",
     "collapsed": false,
     "input": [
      "timeToNextSeries.hist(bins=30, normed=True)"
     ],
     "language": "python",
     "metadata": {},
     "outputs": [
      {
       "metadata": {},
       "output_type": "pyout",
       "prompt_number": 161,
       "text": [
        "<matplotlib.axes.AxesSubplot at 0x10e9118d0>"
       ]
      },
      {
       "metadata": {},
       "output_type": "display_data",
       "png": "[encoded data removed]",
       "text": [
        "<matplotlib.figure.Figure at 0x10e911fd0>"
       ]
      }
     ],
     "prompt_number": 161
    },
    {
     "cell_type": "heading",
     "level": 4,
     "metadata": {},
     "source": [
      "Fit an exponential"
     ]
    },
    {
     "cell_type": "code",
     "collapsed": false,
     "input": [
      "from scipy.optimize import curve_fit"
     ],
     "language": "python",
     "metadata": {},
     "outputs": [],
     "prompt_number": 162
    },
    {
     "cell_type": "code",
     "collapsed": false,
     "input": [
      "def fitFunc(t, b):\n",
      "    return b*numpy.exp(-b*t)"
     ],
     "language": "python",
     "metadata": {},
     "outputs": [],
     "prompt_number": 163
    },
    {
     "cell_type": "code",
     "collapsed": false,
     "input": [
      "count,division = np.histogram(timeUntilNext, bins=100, normed=True)"
     ],
     "language": "python",
     "metadata": {},
     "outputs": [],
     "prompt_number": 164
    },
    {
     "cell_type": "code",
     "collapsed": false,
     "input": [
      "fitParams, fitCov = curve_fit(fitFunc, division[0:len(division)-1], count, p0=1e-4)"
     ],
     "language": "python",
     "metadata": {},
     "outputs": [],
     "prompt_number": 165
    },
    {
     "cell_type": "code",
     "collapsed": false,
     "input": [
      "fitParams"
     ],
     "language": "python",
     "metadata": {},
     "outputs": [
      {
       "metadata": {},
       "output_type": "pyout",
       "prompt_number": 166,
       "text": [
        "array([ 0.00068895])"
       ]
      }
     ],
     "prompt_number": 166
    },
    {
     "cell_type": "code",
     "collapsed": false,
     "input": [
      "1/fitParams[0]"
     ],
     "language": "python",
     "metadata": {},
     "outputs": [
      {
       "metadata": {},
       "output_type": "pyout",
       "prompt_number": 167,
       "text": [
        "1451.4883194175982"
       ]
      }
     ],
     "prompt_number": 167
    },
    {
     "cell_type": "code",
     "collapsed": false,
     "input": [
      "fitCov"
     ],
     "language": "python",
     "metadata": {},
     "outputs": [
      {
       "metadata": {},
       "output_type": "pyout",
       "prompt_number": 168,
       "text": [
        "array([[  1.04040926e-09]])"
       ]
      }
     ],
     "prompt_number": 168
    },
    {
     "cell_type": "heading",
     "level": 4,
     "metadata": {},
     "source": [
      "Evaluate exponential"
     ]
    },
    {
     "cell_type": "code",
     "collapsed": false,
     "input": [
      "t = division[0:len(division)-1]\n",
      "timeToNextSeries.hist(bins=50, normed=True, color=\"blue\")\n",
      "pyplt.plot(t, fitFunc(t, fitParams[0]), color=\"yellow\")"
     ],
     "language": "python",
     "metadata": {},
     "outputs": [
      {
       "metadata": {},
       "output_type": "pyout",
       "prompt_number": 169,
       "text": [
        "[<matplotlib.lines.Line2D at 0x141c15c90>]"
       ]
      },
      {
       "metadata": {},
       "output_type": "display_data",
       "png": "[encoded data removed]",
       "text": [
        "<matplotlib.figure.Figure at 0x141c15c10>"
       ]
      }
     ],
     "prompt_number": 169
    },
    {
     "cell_type": "code",
     "collapsed": false,
     "input": [
      "exp_diffs = []\n",
      "for t in timeUntilNext:\n",
      "    exp_diffs.append(t-1/fitParams[0])"
     ],
     "language": "python",
     "metadata": {},
     "outputs": [],
     "prompt_number": 170
    },
    {
     "cell_type": "code",
     "collapsed": false,
     "input": [
      "pandas.Series(exp_diffs).hist(bins=50)"
     ],
     "language": "python",
     "metadata": {},
     "outputs": [
      {
       "metadata": {},
       "output_type": "pyout",
       "prompt_number": 171,
       "text": [
        "<matplotlib.axes.AxesSubplot at 0x10e826b90>"
       ]
      },
      {
       "metadata": {},
       "output_type": "display_data",
       "png": "[encoded data removed]",
       "text": [
        "<matplotlib.figure.Figure at 0x10e5e3990>"
       ]
      }
     ],
     "prompt_number": 171
    },
    {
     "cell_type": "code",
     "collapsed": false,
     "input": [
      "pandas.Series(exp_diffs).describe()"
     ],
     "language": "python",
     "metadata": {},
     "outputs": [
      {
       "metadata": {},
       "output_type": "pyout",
       "prompt_number": 172,
       "text": [
        "count     3232.000000\n",
        "mean      2843.046025\n",
        "std      11064.424336\n",
        "min      -1450.488319\n",
        "25%      -1368.488319\n",
        "50%      -1115.488319\n",
        "75%       1032.261681\n",
        "max      83356.511681\n",
        "dtype: float64"
       ]
      }
     ],
     "prompt_number": 172
    },
    {
     "cell_type": "heading",
     "level": 4,
     "metadata": {},
     "source": [
      "Evaluate absolute difference of values"
     ]
    },
    {
     "cell_type": "code",
     "collapsed": false,
     "input": [
      "import math\n",
      "exp_diffs = []\n",
      "abs_diffs = []\n",
      "for t in timeUntilNext:\n",
      "    exp_diffs.append(t-1/fitParams[0])\n",
      "    abs_diffs.append(math.fabs(t-1/fitParams[0]))"
     ],
     "language": "python",
     "metadata": {},
     "outputs": [],
     "prompt_number": 173
    },
    {
     "cell_type": "code",
     "collapsed": false,
     "input": [
      "pandas.Series(abs_diffs).hist()"
     ],
     "language": "python",
     "metadata": {},
     "outputs": [
      {
       "metadata": {},
       "output_type": "pyout",
       "prompt_number": 174,
       "text": [
        "<matplotlib.axes.AxesSubplot at 0x10d303950>"
       ]
      },
      {
       "metadata": {},
       "output_type": "display_data",
       "png": "[encoded data removed]",
       "text": [
        "<matplotlib.figure.Figure at 0x10d2e7910>"
       ]
      }
     ],
     "prompt_number": 174
    },
    {
     "cell_type": "code",
     "collapsed": false,
     "input": [
      "pandas.Series(abs_diffs).describe()"
     ],
     "language": "python",
     "metadata": {},
     "outputs": [
      {
       "metadata": {},
       "output_type": "pyout",
       "prompt_number": 175,
       "text": [
        "count     3232.000000\n",
        "mean      4446.834434\n",
        "std      10522.663236\n",
        "min          0.488319\n",
        "25%       1110.505840\n",
        "50%       1363.488319\n",
        "75%       1437.488319\n",
        "max      83356.511681\n",
        "dtype: float64"
       ]
      }
     ],
     "prompt_number": 175
    },
    {
     "cell_type": "heading",
     "level": 4,
     "metadata": {},
     "source": [
      "Observe effect of adding offset"
     ]
    },
    {
     "cell_type": "raw",
     "metadata": {},
     "source": [
      "Note that much of the histogram occurs *before* zero. Perhaps by adding an offset, we can improve performance."
     ]
    },
    {
     "cell_type": "heading",
     "level": 4,
     "metadata": {},
     "source": [
      "Fit more generalized exponential"
     ]
    },
    {
     "cell_type": "code",
     "collapsed": false,
     "input": [
      "def fitFunc_gen(t, a, b, c):\n",
      "    return a*(b)*numpy.exp(-b*t)+c"
     ],
     "language": "python",
     "metadata": {},
     "outputs": [],
     "prompt_number": 176
    },
    {
     "cell_type": "code",
     "collapsed": false,
     "input": [
      "fitParams_gen, fitCov_gen = curve_fit(fitFunc_gen, division[0:len(division)-1], count, p0=[0, 3e-4, 0])"
     ],
     "language": "python",
     "metadata": {},
     "outputs": [],
     "prompt_number": 177
    },
    {
     "cell_type": "code",
     "collapsed": false,
     "input": [
      "fitParams_gen"
     ],
     "language": "python",
     "metadata": {},
     "outputs": [
      {
       "metadata": {},
       "output_type": "pyout",
       "prompt_number": 178,
       "text": [
        "array([  3.34149579e-01,   2.17218731e-03,   3.18496895e-06])"
       ]
      }
     ],
     "prompt_number": 178
    },
    {
     "cell_type": "code",
     "collapsed": false,
     "input": [
      "fitCov_gen"
     ],
     "language": "python",
     "metadata": {},
     "outputs": [
      {
       "metadata": {},
       "output_type": "pyout",
       "prompt_number": 179,
       "text": [
        "array([[  1.10186661e-04,  -6.83152391e-07,  -1.07612154e-09],\n",
        "       [ -6.83152391e-07,   4.65228418e-09,   5.59703963e-12],\n",
        "       [ -1.07612154e-09,   5.59703963e-12,   4.82402257e-13]])"
       ]
      }
     ],
     "prompt_number": 179
    },
    {
     "cell_type": "code",
     "collapsed": false,
     "input": [
      "(1/fitParams_gen[1])*fitParams_gen[0]+fitParams_gen[1]"
     ],
     "language": "python",
     "metadata": {},
     "outputs": [
      {
       "metadata": {},
       "output_type": "pyout",
       "prompt_number": 180,
       "text": [
        "153.83309518722578"
       ]
      }
     ],
     "prompt_number": 180
    },
    {
     "cell_type": "heading",
     "level": 4,
     "metadata": {},
     "source": [
      "Evaluate adjusted exponential"
     ]
    },
    {
     "cell_type": "code",
     "collapsed": false,
     "input": [
      "t = division[0:len(division)-1]\n",
      "timeToNextSeries.hist(bins=50, normed=True, color=\"blue\")\n",
      "pyplt.plot(t, fitFunc(t, fitParams[0]), color=\"yellow\")\n",
      "pyplt.plot(t, fitFunc_gen(t, fitParams_gen[0], fitParams_gen[1], fitParams_gen[2]), color=\"red\")"
     ],
     "language": "python",
     "metadata": {},
     "outputs": [
      {
       "metadata": {},
       "output_type": "pyout",
       "prompt_number": 181,
       "text": [
        "[<matplotlib.lines.Line2D at 0x12606ba10>]"
       ]
      },
      {
       "metadata": {},
       "output_type": "display_data",
       "png": "[encoded data removed]",
       "text": [
        "<matplotlib.figure.Figure at 0x10d132490>"
       ]
      }
     ],
     "prompt_number": 181
    },
    {
     "cell_type": "code",
     "collapsed": false,
     "input": [
      "exp_gen_diffs = []\n",
      "exp_gen_abs = []\n",
      "for t in timeUntilNext:\n",
      "    exp_gen_diffs.append((t-1/fitParams_gen[1])*fitParams_gen[0]+fitParams_gen[1])\n",
      "    exp_gen_abs.append(math.fabs((t-1/fitParams_gen[1])*fitParams_gen[0]+fitParams_gen[1]))"
     ],
     "language": "python",
     "metadata": {},
     "outputs": [],
     "prompt_number": 182
    },
    {
     "cell_type": "code",
     "collapsed": false,
     "input": [
      "pandas.Series(exp_gen_diffs).describe()"
     ],
     "language": "python",
     "metadata": {},
     "outputs": [
      {
       "metadata": {},
       "output_type": "pyout",
       "prompt_number": 183,
       "text": [
        "count     3232.000000\n",
        "mean      1281.188091\n",
        "std       3697.172730\n",
        "min       -153.494601\n",
        "25%       -126.094336\n",
        "50%        -41.554492\n",
        "75%        676.115265\n",
        "max      28184.728714\n",
        "dtype: float64"
       ]
      }
     ],
     "prompt_number": 183
    },
    {
     "cell_type": "code",
     "collapsed": false,
     "input": [
      "pandas.Series(exp_gen_abs).describe()"
     ],
     "language": "python",
     "metadata": {},
     "outputs": [
      {
       "metadata": {},
       "output_type": "pyout",
       "prompt_number": 184,
       "text": [
        "count     3232.000000\n",
        "mean      1400.959394\n",
        "std       3653.456236\n",
        "min          0.119945\n",
        "25%        107.716109\n",
        "50%        139.126169\n",
        "75%        676.115265\n",
        "max      28184.728714\n",
        "dtype: float64"
       ]
      }
     ],
     "prompt_number": 184
    },
    {
     "cell_type": "heading",
     "level": 3,
     "metadata": {},
     "source": [
      "Depection of variance in data"
     ]
    },
    {
     "cell_type": "code",
     "collapsed": false,
     "input": [
      "cd /Users/dondini/Udacity/lesson_2/ud919/lesson2/twitter/"
     ],
     "language": "python",
     "metadata": {},
     "outputs": [
      {
       "output_type": "stream",
       "stream": "stdout",
       "text": [
        "/Users/dondini/Udacity/lesson_2/ud919/lesson2/twitter\n"
       ]
      }
     ],
     "prompt_number": 185
    },
    {
     "cell_type": "code",
     "collapsed": false,
     "input": [
      "tweetsDF = pandas.io.json.read_json(\"new_gruber_tweets.json\")"
     ],
     "language": "python",
     "metadata": {},
     "outputs": [],
     "prompt_number": 186
    },
    {
     "cell_type": "heading",
     "level": 4,
     "metadata": {},
     "source": [
      "Obtaining time-to-tweet vs. delta-t data points"
     ]
    },
    {
     "cell_type": "code",
     "collapsed": false,
     "input": [
      "step_size = 10\n",
      "data_points = []\n",
      "for v in timeUntilNext:\n",
      "    bin_left_edges = np.arange(0, v, step_size)\n",
      "    \n",
      "    for l_edge in bin_left_edges:\n",
      "        tempNewPoint = [l_edge, v-l_edge]\n",
      "        data_points.append(tempNewPoint)"
     ],
     "language": "python",
     "metadata": {},
     "outputs": [],
     "prompt_number": 187
    },
    {
     "cell_type": "code",
     "collapsed": false,
     "input": [
      "data_points.sort()"
     ],
     "language": "python",
     "metadata": {},
     "outputs": [],
     "prompt_number": 188
    },
    {
     "cell_type": "code",
     "collapsed": false,
     "input": [
      "deltat_100 = [v[1] for v in data_points if v[0]==100]\n",
      "deltat_150 = [v[1] for v in data_points if v[0]==150]\n",
      "deltat_10 = [v[1] for v in data_points if v[0]==10]"
     ],
     "language": "python",
     "metadata": {},
     "outputs": [],
     "prompt_number": 189
    },
    {
     "cell_type": "code",
     "collapsed": false,
     "input": [
      "pandas.Series(deltat_10).hist(bins=30, alpha=0.5, color=\"blue\")\n",
      "#pandas.Series(deltat_100).hist(bins=30)\n",
      "d_150 = pandas.Series(deltat_150)\n",
      "pandas.Series(deltat_150).hist(bins=30, alpha=0.3, color=\"red\")"
     ],
     "language": "python",
     "metadata": {},
     "outputs": [
      {
       "metadata": {},
       "output_type": "pyout",
       "prompt_number": 190,
       "text": [
        "<matplotlib.axes.AxesSubplot at 0x14838fbd0>"
       ]
      },
      {
       "metadata": {},
       "output_type": "display_data",
       "png": "[encoded data removed]",
       "text": [
        "<matplotlib.figure.Figure at 0x14847a190>"
       ]
      }
     ],
     "prompt_number": 190
    },
    {
     "cell_type": "code",
     "collapsed": false,
     "input": [
      "xVals = [v[0] for v in deltatToStd]\n",
      "yVals = [v[1] for v in deltatToStd]"
     ],
     "language": "python",
     "metadata": {},
     "outputs": [],
     "prompt_number": 191
    },
    {
     "cell_type": "code",
     "collapsed": false,
     "input": [
      "scipy.std(deltat_150)"
     ],
     "language": "python",
     "metadata": {},
     "outputs": [
      {
       "metadata": {},
       "output_type": "pyout",
       "prompt_number": 192,
       "text": [
        "13381.170443594028"
       ]
      }
     ],
     "prompt_number": 192
    },
    {
     "cell_type": "code",
     "collapsed": false,
     "input": [
      "deltatToStd = []\n",
      "deltaToDist = []\n",
      "for i in np.arange(0, 100, 10):\n",
      "    tempDeltas = [v[1] for v in data_points if v[0] == i]\n",
      "    tempStd = scipy.std(tempDeltas)\n",
      "    deltatToStd.append([i, tempStd])\n",
      "    deltaToDist.append([i, tempDeltas])"
     ],
     "language": "python",
     "metadata": {},
     "outputs": [],
     "prompt_number": 193
    },
    {
     "cell_type": "code",
     "collapsed": false,
     "input": [
      "p1 = pyplt.plot(xVals, yVals, label=\"std dev (sec)\")\n",
      "pyplt.legend(loc=2, prop={'size':18})"
     ],
     "language": "python",
     "metadata": {},
     "outputs": [
      {
       "metadata": {},
       "output_type": "pyout",
       "prompt_number": 194,
       "text": [
        "<matplotlib.legend.Legend at 0x148001510>"
       ]
      },
      {
       "metadata": {},
       "output_type": "display_data",
       "png": "[encoded data removed]",
       "text": [
        "<matplotlib.figure.Figure at 0x148251ed0>"
       ]
      }
     ],
     "prompt_number": 194
    },
    {
     "cell_type": "heading",
     "level": 4,
     "metadata": {},
     "source": [
      "Obtain bounds on bootstrapped 95% confidence interval"
     ]
    },
    {
     "cell_type": "code",
     "collapsed": false,
     "input": [
      "deltaToBounds = []\n",
      "for v in deltaToDist:\n",
      "    topBound = numpy.percentile(v[1], 95)\n",
      "    bottomBound = numpy.percentile(v[1], 5)\n",
      "    deltaToBounds.append([v[0], (topBound, bottomBound)])"
     ],
     "language": "python",
     "metadata": {},
     "outputs": [],
     "prompt_number": 195
    },
    {
     "cell_type": "code",
     "collapsed": false,
     "input": [
      "p1 = pyplt.plot(xVals, [e[1][0] for e in deltaToBounds], color=\"red\")\n",
      "p2 = pyplt.plot(xVals, [e[1][1] for e in deltaToBounds], color=\"red\")\n",
      "pyplt.fill_between(xVals, [e[1][0] for e in deltaToBounds], [e[1][1] for e in deltaToBounds], alpha=0.4, color=\"orange\")"
     ],
     "language": "python",
     "metadata": {},
     "outputs": [
      {
       "metadata": {},
       "output_type": "pyout",
       "prompt_number": 196,
       "text": [
        "<matplotlib.collections.PolyCollection at 0x1250baad0>"
       ]
      },
      {
       "metadata": {},
       "output_type": "display_data",
       "png": "[encoded data removed]",
       "text": [
        "<matplotlib.figure.Figure at 0x1256ff810>"
       ]
      }
     ],
     "prompt_number": 196
    },
    {
     "cell_type": "heading",
     "level": 3,
     "metadata": {},
     "source": [
      "Impact of unmeasured features"
     ]
    },
    {
     "cell_type": "heading",
     "level": 4,
     "metadata": {},
     "source": [
      "One variable plus gaussian noise"
     ]
    },
    {
     "cell_type": "code",
     "collapsed": false,
     "input": [
      "dataPoints_1 = []\n",
      "x = np.arange(0, 100, 10)\n",
      "for j in xrange(100):\n",
      "    points = [(i, i*2 + 3 + numpy.random.normal(scale=50.0)) for i in x]\n",
      "    dataPoints_1.extend(points)"
     ],
     "language": "python",
     "metadata": {},
     "outputs": [],
     "prompt_number": 197
    },
    {
     "cell_type": "code",
     "collapsed": false,
     "input": [
      "pointToVals = []\n",
      "pointToBounds = []\n",
      "for i in np.arange(0, 100, 10):\n",
      "    valsForDataPoint = [v for v in dataPoints_1 if v[0]==i]\n",
      "    pointToVals.append(valsForDataPoint)\n",
      "    upperBound = numpy.percentile(valsForDataPoint, 95)\n",
      "    lowerBound = numpy.percentile(valsForDataPoint, 5)\n",
      "    pointToBounds.append([i, (upperBound, lowerBound)])"
     ],
     "language": "python",
     "metadata": {},
     "outputs": [],
     "prompt_number": 198
    },
    {
     "cell_type": "code",
     "collapsed": false,
     "input": [
      "pyplt.plot(x, [v[1][0] for v in pointToBounds])\n",
      "pyplt.plot(x, [v[1][1] for v in pointToBounds])\n",
      "pyplt.plot(x, [[i*2+3] for i in x], color=\"red\", label=\"true model\")\n",
      "pyplt.fill_between(x, [v[1][0] for v in pointToBounds], [v[1][1] for v in pointToBounds], color=\"orange\", alpha=0.4)\n",
      "pyplt.legend(loc=2, prop={'size':18})"
     ],
     "language": "python",
     "metadata": {},
     "outputs": [
      {
       "metadata": {},
       "output_type": "pyout",
       "prompt_number": 199,
       "text": [
        "<matplotlib.legend.Legend at 0x148ca22d0>"
       ]
      },
      {
       "metadata": {},
       "output_type": "display_data",
       "png": "[encoded data removed]",
       "text": [
        "<matplotlib.figure.Figure at 0x12528a990>"
       ]
      }
     ],
     "prompt_number": 199
    },
    {
     "cell_type": "heading",
     "level": 4,
     "metadata": {},
     "source": [
      "Two variables plus gaussian noise"
     ]
    },
    {
     "cell_type": "code",
     "collapsed": false,
     "input": [
      "dataPoints_2 = []\n",
      "x = np.arange(0, 100, 10)\n",
      "y = np.arange(50, 150, 10)\n",
      "for j in xrange(100):\n",
      "    yVal = random.choice(y)\n",
      "    points = [(i, i*2 + yVal*2 + 3 + numpy.random.normal(scale=50.0)) for i in x]\n",
      "    dataPoints_2.extend(points)"
     ],
     "language": "python",
     "metadata": {},
     "outputs": [],
     "prompt_number": 200
    },
    {
     "cell_type": "code",
     "collapsed": false,
     "input": [
      "avgYAtX = {}\n",
      "for i in x:\n",
      "    lineVals = [(i*2 + yVal*2 + 3 ) for yVal in np.arange(50, 150, 10)]\n",
      "    avgY = reduce(lambda x,y: x+y, lineVals)/len(lineVals)\n",
      "    avgYAtX[i] = avgY"
     ],
     "language": "python",
     "metadata": {},
     "outputs": [],
     "prompt_number": 201
    },
    {
     "cell_type": "code",
     "collapsed": false,
     "input": [
      "pointToVals = []\n",
      "pointToBounds = []\n",
      "for i in np.arange(0, 100, 10):\n",
      "    valsForDataPoint = [v for v in dataPoints_2 if v[0]==i]\n",
      "    pointToVals.append(valsForDataPoint)\n",
      "    upperBound = numpy.percentile(valsForDataPoint, 95)\n",
      "    lowerBound = numpy.percentile(valsForDataPoint, 5)\n",
      "    pointToBounds.append([i, (upperBound, lowerBound)])"
     ],
     "language": "python",
     "metadata": {},
     "outputs": [],
     "prompt_number": 202
    },
    {
     "cell_type": "code",
     "collapsed": false,
     "input": [
      "pyplt.plot(x, [v[1][0] for v in pointToBounds])\n",
      "pyplt.plot(x, [v[1][1] for v in pointToBounds])\n",
      "pyplt.plot(x, [avgYAtX[i] for i in x], color=\"red\", label=\"true model (best estimate)\")\n",
      "pyplt.fill_between(x, [v[1][0] for v in pointToBounds], [v[1][1] for v in pointToBounds], color=\"orange\", alpha=0.4)\n",
      "pyplt.legend(loc=2, prop={'size':18})"
     ],
     "language": "python",
     "metadata": {},
     "outputs": [
      {
       "metadata": {},
       "output_type": "pyout",
       "prompt_number": 203,
       "text": [
        "<matplotlib.legend.Legend at 0x10e9cf250>"
       ]
      },
      {
       "metadata": {},
       "output_type": "display_data",
       "png": "[encoded data removed]",
       "text": [
        "<matplotlib.figure.Figure at 0x1250baed0>"
       ]
      }
     ],
     "prompt_number": 203
    },
    {
     "cell_type": "heading",
     "level": 3,
     "metadata": {},
     "source": [
      "Feature selection"
     ]
    },
    {
     "cell_type": "raw",
     "metadata": {},
     "source": [
      "Proposed list of features to consider for influence upon intertweet time:\n",
      "-mention distance\n",
      "-time of day\n",
      "-contains mention\n",
      "-contains URL\n",
      "-length of tweet (num chars)\n",
      "-contains hashtags\n",
      "-is_reply"
     ]
    },
    {
     "cell_type": "raw",
     "metadata": {},
     "source": [
      "We now need to form the features described above. The most non-trivial one to create is \"mention distance\", as defined in lecture. We do this now. "
     ]
    },
    {
     "cell_type": "heading",
     "level": 4,
     "metadata": {},
     "source": [
      "Forming mention distance"
     ]
    },
    {
     "cell_type": "code",
     "collapsed": false,
     "input": [
      "import twitter_tools\n",
      "from twitter_tools import *"
     ],
     "language": "python",
     "metadata": {},
     "outputs": [],
     "prompt_number": 204
    },
    {
     "cell_type": "raw",
     "metadata": {},
     "source": [
      "Obtain your own data files here!"
     ]
    },
    {
     "cell_type": "code",
     "collapsed": false,
     "input": [
      "tweetFile = open(\"/Users/dondini/Udacity/lesson_2/ud919/lesson2/twitter/new_gruber_tweets.json\")"
     ],
     "language": "python",
     "metadata": {},
     "outputs": [],
     "prompt_number": 205
    },
    {
     "cell_type": "code",
     "collapsed": false,
     "input": [
      "import json\n",
      "jsonFile = json.load(tweetFile)"
     ],
     "language": "python",
     "metadata": {},
     "outputs": [],
     "prompt_number": 206
    },
    {
     "cell_type": "code",
     "collapsed": false,
     "input": [
      "tweetFile.close()"
     ],
     "language": "python",
     "metadata": {},
     "outputs": [],
     "prompt_number": 207
    },
    {
     "cell_type": "code",
     "collapsed": false,
     "input": [
      "gruberTweetsDF = pandas.io.json.read_json(\"/Users/dondini/Udacity/lesson_2/ud919/lesson2/twitter/new_gruber_tweets.json\")\n",
      "siracusaTweetsDF = pandas.io.json.read_json(\"/Users/dondini/Udacity/lesson_2/ud919/lesson2/twitter/new_siracusa_tweets.json\")\n",
      "armentTweetsDF = pandas.io.json.read_json(\"/Users/dondini/Udacity/lesson_2/ud919/lesson2/twitter/new_arment_tweets.json\")"
     ],
     "language": "python",
     "metadata": {},
     "outputs": [],
     "prompt_number": 208
    },
    {
     "cell_type": "code",
     "collapsed": false,
     "input": [
      "gruberTimeDiffs = []\n",
      "gruberTweetTimes = []\n",
      "gruberTimeToDiff = {}\n",
      "gruberTimeToText = {}\n",
      "siracusaMentionTimes = []\n",
      "armentMentionTimes = []"
     ],
     "language": "python",
     "metadata": {},
     "outputs": [],
     "prompt_number": 209
    },
    {
     "cell_type": "code",
     "collapsed": false,
     "input": [
      "gruberCreatedDF = gruberTweetsDF.ix[0:, [\"created_at\"]]\n",
      "gruberCreatedTextDF = gruberTweetsDF.ix[0:, [\"created_at\", \"text\"]]\n",
      "createdTextVals = gruberCreatedTextDF.values\n",
      "\n",
      "for i, row in gruberCreatedDF.iterrows():\n",
      "    gruberTweetTimes.append(row[\"created_at\"])"
     ],
     "language": "python",
     "metadata": {},
     "outputs": [],
     "prompt_number": 210
    },
    {
     "cell_type": "code",
     "collapsed": false,
     "input": [
      "gruberTweetTimes.sort()"
     ],
     "language": "python",
     "metadata": {},
     "outputs": [],
     "prompt_number": 211
    },
    {
     "cell_type": "code",
     "collapsed": false,
     "input": [
      "for i in xrange(1, len(gruberTweetTimes)):\n",
      "    timeDiff = (gruberTweetTimes[i]-gruberTweetTimes[i-1]).seconds\n",
      "    gruberTimeDiffs.append(timeDiff)\n",
      "    gruberTimeToDiff[gruberTweetTimes[i]] = timeDiff\n",
      "    gruberTimeToText[gruberTweetTimes[i]] = gruberCreatedTextDF[ gruberCreatedTextDF[\"created_at\"]==gruberTweetTimes[i] ]"
     ],
     "language": "python",
     "metadata": {},
     "outputs": [],
     "prompt_number": 212
    },
    {
     "cell_type": "heading",
     "level": 5,
     "metadata": {},
     "source": [
      "Capture time of mentions"
     ]
    },
    {
     "cell_type": "code",
     "collapsed": false,
     "input": [
      "nearestMentionToTimeDiff = []\n",
      "tweetIndexToNearestMention = {}"
     ],
     "language": "python",
     "metadata": {},
     "outputs": [],
     "prompt_number": 213
    },
    {
     "cell_type": "code",
     "collapsed": false,
     "input": [
      "def findTweetFollowingTime(timeStamp, tweetTimes):\n",
      "    returnTweetTime = None\n",
      "    \n",
      "    for t in tweetTimes:\n",
      "        if t>timeStamp:\n",
      "            returnTweetTime = t\n",
      "            break\n",
      "    \n",
      "    return returnTweetTime\n",
      "\n",
      "def findTweetPreceedingTime(timeStamp, tweetTimes):\n",
      "    returnTweetTime = None\n",
      "    \n",
      "    i = len(tweetTimes)-1\n",
      "    \n",
      "    while i>=0:\n",
      "        t = tweetTimes[i]\n",
      "        if t<timeStamp:\n",
      "            returnTweetTime = t\n",
      "            break\n",
      "        \n",
      "        i-=1\n",
      "    \n",
      "    return returnTweetTime"
     ],
     "language": "python",
     "metadata": {},
     "outputs": [],
     "prompt_number": 214
    },
    {
     "cell_type": "code",
     "collapsed": false,
     "input": [
      "siracusaTimeOfGruberMentions = []\n",
      "armentTimeOfGruberMentions = []"
     ],
     "language": "python",
     "metadata": {},
     "outputs": [],
     "prompt_number": 215
    },
    {
     "cell_type": "code",
     "collapsed": false,
     "input": [
      "for i, row in armentTweetsDF.iterrows():\n",
      "    if \"user_mentions\" in row:\n",
      "        if type(row[\"user_mentions\"]) == list:\n",
      "            if len([e for e in row[\"user_mentions\"] if e[\"screen_name\"]==\"gruber\"])>0:\n",
      "                armentTimeOfGruberMentions.append(row[\"created_at\"])"
     ],
     "language": "python",
     "metadata": {},
     "outputs": [],
     "prompt_number": 216
    },
    {
     "cell_type": "code",
     "collapsed": false,
     "input": [
      "for i, row in siracusaTweetsDF.iterrows():\n",
      "    if \"user_mentions\" in row:\n",
      "        if type(row[\"user_mentions\"]) == list:\n",
      "            if len([e for e in row[\"user_mentions\"] if e[\"screen_name\"]==\"gruber\"])>0:\n",
      "                siracusaTimeOfGruberMentions.append(row[\"created_at\"])"
     ],
     "language": "python",
     "metadata": {},
     "outputs": [],
     "prompt_number": 217
    },
    {
     "cell_type": "heading",
     "level": 5,
     "metadata": {},
     "source": [
      "Mention distance for each @gruber tweet"
     ]
    },
    {
     "cell_type": "raw",
     "metadata": {},
     "source": [
      "For each gruber tweet, let's find the tweet belonging to either @siracusa or @marcoarment which is the closest, in time, to mention @gruber"
     ]
    },
    {
     "cell_type": "code",
     "collapsed": false,
     "input": [
      "gruberTweetTimes.sort()\n",
      "siracusaTimeOfGruberMentions.sort()\n",
      "armentTimeOfGruberMentions.sort()\n",
      "for i in xrange(len(gruberTweetTimes)):\n",
      "    t = gruberTweetTimes[i]\n",
      "    t_next = None\n",
      "    if i+1<len(gruberTweetTimes):\n",
      "        t_next = gruberTweetTimes[i+1]\n",
      "        \n",
      "        #print \"t_next: %s\" % t_next\n",
      "        t_s = findTweetFollowingTime(t, siracusaTimeOfGruberMentions)\n",
      "        t_s_prev = findTweetPreceedingTime(t, siracusaTimeOfGruberMentions)\n",
      "        \n",
      "        #print \"t_s: %s\" % t_s\n",
      "        \n",
      "        t_a = findTweetFollowingTime(t, armentTimeOfGruberMentions)\n",
      "        t_a_prev = findTweetPreceedingTime(t, armentTimeOfGruberMentions)\n",
      "        \n",
      "        sDiff = None\n",
      "        aDiff = None\n",
      "        if t_s_prev is not None and t_s is not None: \n",
      "            sDiff = math.fabs((t_s - t).seconds)\n",
      "            if sDiff >math.fabs((t-t_s_prev).seconds):\n",
      "                sDiff = math.fabs((t-t_s_prev).seconds)\n",
      "            \n",
      "        if t_a_prev is not None and t_a is not None:\n",
      "            aDiff = math.fabs((t_a - t).seconds)\n",
      "            if aDiff > math.fabs((t-t_a_prev).seconds):\n",
      "                aDiff = math.fabs((t - t_a_prev).seconds)\n",
      "        \n",
      "        closestMention = None\n",
      "        \n",
      "        if sDiff is not None:\n",
      "            closestMention = sDiff\n",
      "        elif aDiff is not None:\n",
      "            closestMention = aDiff\n",
      "        \n",
      "        if aDiff is not None and sDiff is not None:\n",
      "            if aDiff < sDiff:\n",
      "                closestMention = aDiff\n",
      "                \n",
      "        if closestMention is not None:\n",
      "            nearestMentionToTimeDiff.append((closestMention, (t_next-t).seconds))\n",
      "            tweetIndexToNearestMention[i] = closestMention"
     ],
     "language": "python",
     "metadata": {},
     "outputs": [],
     "prompt_number": 218
    },
    {
     "cell_type": "heading",
     "level": 4,
     "metadata": {},
     "source": [
      "Extract remaining features"
     ]
    },
    {
     "cell_type": "code",
     "collapsed": false,
     "input": [
      "features_list = extract_features(jsonFile)"
     ],
     "language": "python",
     "metadata": {},
     "outputs": [],
     "prompt_number": 219
    },
    {
     "cell_type": "code",
     "collapsed": false,
     "input": [
      "featuresWithLabel = []\n",
      "for i in range(len(gruberTimeDiffs)):\n",
      "    timeDiff = gruberTimeDiffs[i]\n",
      "    if timeDiff<4000:\n",
      "        label = \"short\"\n",
      "    else:\n",
      "        label = \"long\"\n",
      "    \n",
      "    featuresForTweet = features_list[i]\n",
      "    \n",
      "    nearestMention = 0\n",
      "    if i in tweetIndexToNearestMention:\n",
      "        nearestMention = tweetIndexToNearestMention[i]\n",
      "    \n",
      "    completeItem = []\n",
      "    completeItem.append(label)\n",
      "    completeItem.extend(list(featuresForTweet))\n",
      "    completeItem.append(nearestMention)\n",
      "    featuresWithLabel.append(completeItem)"
     ],
     "language": "python",
     "metadata": {},
     "outputs": [],
     "prompt_number": 220
    },
    {
     "cell_type": "heading",
     "level": 4,
     "metadata": {},
     "source": [
      "Evaluate features by mutual information gain"
     ]
    },
    {
     "cell_type": "raw",
     "metadata": {},
     "source": [
      "Get info_gain library from your local path!"
     ]
    },
    {
     "cell_type": "code",
     "collapsed": false,
     "input": [
      "cd /Users/dondini/Udacity/"
     ],
     "language": "python",
     "metadata": {},
     "outputs": [
      {
       "output_type": "stream",
       "stream": "stdout",
       "text": [
        "/Users/dondini/Udacity\n"
       ]
      }
     ],
     "prompt_number": 221
    },
    {
     "cell_type": "code",
     "collapsed": false,
     "input": [
      "from info_gain import *"
     ],
     "language": "python",
     "metadata": {},
     "outputs": [],
     "prompt_number": 222
    },
    {
     "cell_type": "heading",
     "level": 4,
     "metadata": {},
     "source": [
      "1 Time of day"
     ]
    },
    {
     "cell_type": "code",
     "collapsed": false,
     "input": [
      "valsY = [\"short\", \"long\"]\n",
      "binsY = None"
     ],
     "language": "python",
     "metadata": {},
     "outputs": [],
     "prompt_number": 223
    },
    {
     "cell_type": "code",
     "collapsed": false,
     "input": [
      "joint_list = [(v[1], v[0]) for v in featuresWithLabel]\n",
      "valsX = [\"morning\", \"afternoon\", \"evening\", \"night\"]\n",
      "binsX = None"
     ],
     "language": "python",
     "metadata": {},
     "outputs": [],
     "prompt_number": 224
    },
    {
     "cell_type": "code",
     "collapsed": false,
     "input": [
      "jpTable = compute_joint_prob(joint_list, valsX, valsY, None, None)"
     ],
     "language": "python",
     "metadata": {},
     "outputs": [],
     "prompt_number": 225
    },
    {
     "cell_type": "code",
     "collapsed": false,
     "input": [
      "entropy_loss(jpTable, valsX, valsY)"
     ],
     "language": "python",
     "metadata": {},
     "outputs": [
      {
       "metadata": {},
       "output_type": "pyout",
       "prompt_number": 226,
       "text": [
        "0.00029792328911204535"
       ]
      }
     ],
     "prompt_number": 226
    },
    {
     "cell_type": "heading",
     "level": 4,
     "metadata": {},
     "source": [
      "2 Contains mention"
     ]
    },
    {
     "cell_type": "code",
     "collapsed": false,
     "input": [
      "joint_list = [(v[2], v[0]) for v in featuresWithLabel]\n",
      "valsX = None\n",
      "binsX = [[0, .9], [1.0, 100]]"
     ],
     "language": "python",
     "metadata": {},
     "outputs": [],
     "prompt_number": 227
    },
    {
     "cell_type": "code",
     "collapsed": false,
     "input": [
      "jpTable = compute_joint_prob(joint_list, valsX, valsY, bins1=binsX)"
     ],
     "language": "python",
     "metadata": {},
     "outputs": [],
     "prompt_number": 228
    },
    {
     "cell_type": "code",
     "collapsed": false,
     "input": [
      "entropy_loss(jpTable, [0.0, 1.0], valsY)"
     ],
     "language": "python",
     "metadata": {},
     "outputs": [
      {
       "metadata": {},
       "output_type": "pyout",
       "prompt_number": 229,
       "text": [
        "0.00018592171588510675"
       ]
      }
     ],
     "prompt_number": 229
    },
    {
     "cell_type": "heading",
     "level": 4,
     "metadata": {},
     "source": [
      "3 Contains URL"
     ]
    },
    {
     "cell_type": "code",
     "collapsed": false,
     "input": [
      "joint_list = [(v[3], v[0]) for v in featuresWithLabel]\n",
      "valsX = None\n",
      "binsX = [[0, .9], [1.0, 100]]"
     ],
     "language": "python",
     "metadata": {},
     "outputs": [],
     "prompt_number": 230
    },
    {
     "cell_type": "code",
     "collapsed": false,
     "input": [
      "jpTable = compute_joint_prob(joint_list, valsX, valsY, bins1=binsX)"
     ],
     "language": "python",
     "metadata": {},
     "outputs": [],
     "prompt_number": 231
    },
    {
     "cell_type": "code",
     "collapsed": false,
     "input": [
      "entropy_loss(jpTable, [0.0, 1.0], valsY)"
     ],
     "language": "python",
     "metadata": {},
     "outputs": [
      {
       "metadata": {},
       "output_type": "pyout",
       "prompt_number": 232,
       "text": [
        "0.0006917841288795468"
       ]
      }
     ],
     "prompt_number": 232
    },
    {
     "cell_type": "heading",
     "level": 4,
     "metadata": {},
     "source": [
      "4 Length of tweet"
     ]
    },
    {
     "cell_type": "code",
     "collapsed": false,
     "input": [
      "joint_list = [(v[4], v[0]) for v in featuresWithLabel]\n",
      "valsX = None\n",
      "binsX = [[0, 14], [14, 28], [28, 42], [42, 56], [56, 70], [70, 84], [84, 98], [98, 112], [112, 126]]"
     ],
     "language": "python",
     "metadata": {},
     "outputs": [],
     "prompt_number": 233
    },
    {
     "cell_type": "code",
     "collapsed": false,
     "input": [
      "jpTable = compute_joint_prob(joint_list, valsX, valsY, bins1=binsX)"
     ],
     "language": "python",
     "metadata": {},
     "outputs": [],
     "prompt_number": 234
    },
    {
     "cell_type": "code",
     "collapsed": false,
     "input": [
      "entropy_loss(jpTable, [v[4] for v in featuresWithLabel], valsY)"
     ],
     "language": "python",
     "metadata": {},
     "outputs": [
      {
       "metadata": {},
       "output_type": "pyout",
       "prompt_number": 235,
       "text": [
        "3.184467596637892"
       ]
      }
     ],
     "prompt_number": 235
    },
    {
     "cell_type": "heading",
     "level": 4,
     "metadata": {},
     "source": [
      "5 Contains hashtags"
     ]
    },
    {
     "cell_type": "code",
     "collapsed": false,
     "input": [
      "joint_list = [(v[5], v[0]) for v in featuresWithLabel]\n",
      "valsX = None\n",
      "binsX = [[0, .9], [1.0, 100]]"
     ],
     "language": "python",
     "metadata": {},
     "outputs": [],
     "prompt_number": 236
    },
    {
     "cell_type": "code",
     "collapsed": false,
     "input": [
      "jpTable = compute_joint_prob(joint_list, valsX, valsY, bins1=binsX)"
     ],
     "language": "python",
     "metadata": {},
     "outputs": [],
     "prompt_number": 237
    },
    {
     "cell_type": "code",
     "collapsed": false,
     "input": [
      "entropy_loss(jpTable, [0.0, 1.0], valsY)"
     ],
     "language": "python",
     "metadata": {},
     "outputs": [
      {
       "metadata": {},
       "output_type": "pyout",
       "prompt_number": 238,
       "text": [
        "2.471814972664077e-05"
       ]
      }
     ],
     "prompt_number": 238
    },
    {
     "cell_type": "heading",
     "level": 4,
     "metadata": {},
     "source": [
      "6 Is reply"
     ]
    },
    {
     "cell_type": "code",
     "collapsed": false,
     "input": [
      "joint_list = [(v[6], v[0]) for v in featuresWithLabel]\n",
      "valsX = None\n",
      "binsX = [[0, .9], [1.0, 100]]"
     ],
     "language": "python",
     "metadata": {},
     "outputs": [],
     "prompt_number": 239
    },
    {
     "cell_type": "code",
     "collapsed": false,
     "input": [
      "jpTable = compute_joint_prob(joint_list, valsX, valsY, bins1=binsX)"
     ],
     "language": "python",
     "metadata": {},
     "outputs": [],
     "prompt_number": 240
    },
    {
     "cell_type": "code",
     "collapsed": false,
     "input": [
      "entropy_loss(jpTable, [0.0, 1.0], valsY)"
     ],
     "language": "python",
     "metadata": {},
     "outputs": [
      {
       "metadata": {},
       "output_type": "pyout",
       "prompt_number": 241,
       "text": [
        "7.188753133346992e-05"
       ]
      }
     ],
     "prompt_number": 241
    },
    {
     "cell_type": "heading",
     "level": 4,
     "metadata": {},
     "source": [
      "7 Mention distance"
     ]
    },
    {
     "cell_type": "code",
     "collapsed": false,
     "input": [
      "joint_list = [(v[7], v[0]) for v in featuresWithLabel]\n",
      "valsX = None\n",
      "binsX = [[0, 1000], [1000, 5000], [5000, 8000], [8000, 10000], [10000, 20000], [20000, 30000], [30000, 60000], [60000, 80000], [80000, 10000], [100000, 800000]]"
     ],
     "language": "python",
     "metadata": {},
     "outputs": [],
     "prompt_number": 242
    },
    {
     "cell_type": "code",
     "collapsed": false,
     "input": [
      "jpTable = compute_joint_prob(joint_list, valsX, valsY, bins1=binsX)"
     ],
     "language": "python",
     "metadata": {},
     "outputs": [],
     "prompt_number": 243
    },
    {
     "cell_type": "code",
     "collapsed": false,
     "input": [
      "entropy_loss(jpTable, [0.0, 1.0], valsY)"
     ],
     "language": "python",
     "metadata": {},
     "outputs": [
      {
       "metadata": {},
       "output_type": "pyout",
       "prompt_number": 244,
       "text": [
        "2.065038542452612"
       ]
      }
     ],
     "prompt_number": 244
    },
    {
     "cell_type": "heading",
     "level": 3,
     "metadata": {},
     "source": [
      "Fitting a model "
     ]
    },
    {
     "cell_type": "raw",
     "metadata": {},
     "source": [
      "Obtain data points - each point is of the form (delta-t, mention distance, text-length of last tweet) - label with time until next tweet"
     ]
    },
    {
     "cell_type": "heading",
     "level": 4,
     "metadata": {},
     "source": [
      "kNN"
     ]
    },
    {
     "cell_type": "raw",
     "metadata": {},
     "source": [
      "Form data points to be used with kNN model"
     ]
    },
    {
     "cell_type": "code",
     "collapsed": false,
     "input": [
      "step_size = 10\n",
      "knn_data_points = []\n",
      "tweet_index = 0\n",
      "for v in timeUntilNext:\n",
      "    bin_left_edges = np.arange(0, v, step_size)\n",
      "    \n",
      "    features_for_tweet = features_list[tweet_index]\n",
      "    \n",
      "    if tweet_index in tweetIndexToNearestMention:\n",
      "        for l_edge in bin_left_edges:\n",
      "            newDeltaT = l_edge\n",
      "            mentionDist = tweetIndexToNearestMention[tweet_index] + newDeltaT\n",
      "            textLength = features_for_tweet[3]\n",
      "            label = v-l_edge\n",
      "            \n",
      "            newPoint = [newDeltaT, mentionDist, textLength, label]\n",
      "            knn_data_points.append(newPoint)\n",
      "    \n",
      "    tweet_index+=1"
     ],
     "language": "python",
     "metadata": {},
     "outputs": [],
     "prompt_number": 245
    },
    {
     "cell_type": "code",
     "collapsed": false,
     "input": [
      "import sklearn\n",
      "from sklearn.neighbors import KNeighborsRegressor"
     ],
     "language": "python",
     "metadata": {},
     "outputs": [],
     "prompt_number": 246
    },
    {
     "cell_type": "code",
     "collapsed": false,
     "input": [
      "knn = KNeighborsRegressor(5)"
     ],
     "language": "python",
     "metadata": {},
     "outputs": [],
     "prompt_number": 247
    },
    {
     "cell_type": "code",
     "collapsed": false,
     "input": [
      "knn_3 = KNeighborsRegressor(3)"
     ],
     "language": "python",
     "metadata": {},
     "outputs": [],
     "prompt_number": 248
    },
    {
     "cell_type": "code",
     "collapsed": false,
     "input": [
      "len(knn_data_points)"
     ],
     "language": "python",
     "metadata": {},
     "outputs": [
      {
       "metadata": {},
       "output_type": "pyout",
       "prompt_number": 249,
       "text": [
        "1381258"
       ]
      }
     ],
     "prompt_number": 249
    },
    {
     "cell_type": "code",
     "collapsed": false,
     "input": [
      ".70*len(knn_data_points)"
     ],
     "language": "python",
     "metadata": {},
     "outputs": [
      {
       "metadata": {},
       "output_type": "pyout",
       "prompt_number": 250,
       "text": [
        "966880.6"
       ]
      }
     ],
     "prompt_number": 250
    },
    {
     "cell_type": "code",
     "collapsed": false,
     "input": [
      ".30*len(knn_data_points)"
     ],
     "language": "python",
     "metadata": {},
     "outputs": [
      {
       "metadata": {},
       "output_type": "pyout",
       "prompt_number": 251,
       "text": [
        "414377.39999999997"
       ]
      }
     ],
     "prompt_number": 251
    },
    {
     "cell_type": "code",
     "collapsed": false,
     "input": [
      "import random"
     ],
     "language": "python",
     "metadata": {},
     "outputs": [],
     "prompt_number": 252
    },
    {
     "cell_type": "code",
     "collapsed": false,
     "input": [
      "trainingPoints = [random.choice(knn_data_points) for i in xrange(966880)]"
     ],
     "language": "python",
     "metadata": {},
     "outputs": [],
     "prompt_number": 253
    },
    {
     "cell_type": "code",
     "collapsed": false,
     "input": [
      "trainingX = [(v[0], v[1], v[2]) for v in trainingPoints]"
     ],
     "language": "python",
     "metadata": {},
     "outputs": [],
     "prompt_number": 254
    },
    {
     "cell_type": "code",
     "collapsed": false,
     "input": [
      "trainingY = [v[3] for v in trainingPoints]"
     ],
     "language": "python",
     "metadata": {},
     "outputs": [],
     "prompt_number": 255
    },
    {
     "cell_type": "code",
     "collapsed": false,
     "input": [
      "m_3 = knn_3.fit(trainingX, trainingY)"
     ],
     "language": "python",
     "metadata": {},
     "outputs": [],
     "prompt_number": 256
    },
    {
     "cell_type": "code",
     "collapsed": false,
     "input": [
      "m = knn.fit(trainingX, trainingY)"
     ],
     "language": "python",
     "metadata": {},
     "outputs": [],
     "prompt_number": 257
    },
    {
     "cell_type": "heading",
     "level": 4,
     "metadata": {},
     "source": [
      "Performance on training set"
     ]
    },
    {
     "cell_type": "code",
     "collapsed": false,
     "input": [
      "y_ = m.predict(trainingX)"
     ],
     "language": "python",
     "metadata": {},
     "outputs": [],
     "prompt_number": 258
    },
    {
     "cell_type": "code",
     "collapsed": false,
     "input": [
      "y = m_3.predict(trainingX)"
     ],
     "language": "python",
     "metadata": {},
     "outputs": [],
     "prompt_number": 259
    },
    {
     "cell_type": "code",
     "collapsed": false,
     "input": [
      "train_diffs = []\n",
      "for i in xrange(len(trainingY)):\n",
      "    train_diffs.append(trainingY[i] - y_[i])"
     ],
     "language": "python",
     "metadata": {},
     "outputs": [],
     "prompt_number": 260
    },
    {
     "cell_type": "code",
     "collapsed": false,
     "input": [
      "pandas.Series([math.fabs(x) for x in train_diffs]).describe()"
     ],
     "language": "python",
     "metadata": {},
     "outputs": [
      {
       "metadata": {},
       "output_type": "pyout",
       "prompt_number": 261,
       "text": [
        "count    966880.000000\n",
        "mean       1876.546200\n",
        "std        4720.141228\n",
        "min           0.000000\n",
        "25%           4.000000\n",
        "50%           8.000000\n",
        "75%        1062.000000\n",
        "max       65938.400000\n",
        "dtype: float64"
       ]
      }
     ],
     "prompt_number": 261
    },
    {
     "cell_type": "code",
     "collapsed": false,
     "input": [
      "pandas.Series(train_diffs).hist(bins=50)"
     ],
     "language": "python",
     "metadata": {},
     "outputs": [
      {
       "metadata": {},
       "output_type": "pyout",
       "prompt_number": 262,
       "text": [
        "<matplotlib.axes.AxesSubplot at 0x12316d210>"
       ]
      },
      {
       "metadata": {},
       "output_type": "display_data",
       "png": "[encoded data removed]",
       "text": [
        "<matplotlib.figure.Figure at 0x12316d6d0>"
       ]
      }
     ],
     "prompt_number": 262
    },
    {
     "cell_type": "heading",
     "level": 4,
     "metadata": {},
     "source": [
      "Performance on test set"
     ]
    },
    {
     "cell_type": "code",
     "collapsed": false,
     "input": [
      "testPoints = [random.choice(knn_data_points) for i in xrange(414377)]"
     ],
     "language": "python",
     "metadata": {},
     "outputs": [],
     "prompt_number": 263
    },
    {
     "cell_type": "code",
     "collapsed": false,
     "input": [
      "testX = [(v[0], v[1], v[2]) for v in testPoints]"
     ],
     "language": "python",
     "metadata": {},
     "outputs": [],
     "prompt_number": 264
    },
    {
     "cell_type": "code",
     "collapsed": false,
     "input": [
      "testY = [v[3] for v in testPoints]"
     ],
     "language": "python",
     "metadata": {},
     "outputs": [],
     "prompt_number": 265
    },
    {
     "cell_type": "code",
     "collapsed": false,
     "input": [
      "test_pred = m_3.predict(testX)"
     ],
     "language": "python",
     "metadata": {},
     "outputs": [],
     "prompt_number": 266
    },
    {
     "cell_type": "code",
     "collapsed": false,
     "input": [
      "test_diffs = []\n",
      "for i in xrange(len(testY)):\n",
      "    test_diffs.append(math.fabs(testY[i] - test_pred[i]))"
     ],
     "language": "python",
     "metadata": {},
     "outputs": [],
     "prompt_number": 267
    },
    {
     "cell_type": "code",
     "collapsed": false,
     "input": [
      "pandas.Series(test_diffs).describe()"
     ],
     "language": "python",
     "metadata": {},
     "outputs": [
      {
       "output_type": "stream",
       "stream": "stderr",
       "text": [
        "//anaconda/lib/python2.7/site-packages/pandas/compat/scipy.py:68: DeprecationWarning: using a non-integer number instead of an integer will result in an error in the future\n",
        "  score = values[idx]\n",
        "//anaconda/lib/python2.7/site-packages/pandas/compat/scipy.py:68: DeprecationWarning: using a non-integer number instead of an integer will result in an error in the future\n",
        "  score = values[idx]\n"
       ]
      },
      {
       "metadata": {},
       "output_type": "pyout",
       "prompt_number": 268,
       "text": [
        "count    414377.000000\n",
        "mean       1834.645057\n",
        "std        5575.817493\n",
        "min           0.000000\n",
        "25%           3.333333\n",
        "50%           6.666667\n",
        "75%          30.000000\n",
        "max       82658.000000\n",
        "dtype: float64"
       ]
      }
     ],
     "prompt_number": 268
    },
    {
     "cell_type": "code",
     "collapsed": false,
     "input": [
      "testSeries = pandas.Series(test_diffs)"
     ],
     "language": "python",
     "metadata": {},
     "outputs": [],
     "prompt_number": 269
    },
    {
     "cell_type": "code",
     "collapsed": false,
     "input": [
      "testSeries.hist(bins=50)"
     ],
     "language": "python",
     "metadata": {},
     "outputs": [
      {
       "metadata": {},
       "output_type": "pyout",
       "prompt_number": 270,
       "text": [
        "<matplotlib.axes.AxesSubplot at 0x12316d950>"
       ]
      },
      {
       "metadata": {},
       "output_type": "display_data",
       "png": "[encoded data removed]",
       "text": [
        "<matplotlib.figure.Figure at 0x123110710>"
       ]
      }
     ],
     "prompt_number": 270
    },
    {
     "cell_type": "code",
     "collapsed": false,
     "input": [],
     "language": "python",
     "metadata": {},
     "outputs": [],
     "prompt_number": 270
    }
   ],
   "metadata": {}
  }
 ]
}